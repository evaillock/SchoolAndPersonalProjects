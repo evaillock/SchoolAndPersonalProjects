{
 "cells": [
  {
   "cell_type": "code",
   "execution_count": 259,
   "id": "76775370",
   "metadata": {},
   "outputs": [],
   "source": [
    "#import libraries\n",
    "import pandas as pd\n",
    "import numpy as np\n",
    "import datetime\n",
    "import matplotlib.pyplot as plt"
   ]
  },
  {
   "cell_type": "code",
   "execution_count": 133,
   "id": "ba615897",
   "metadata": {},
   "outputs": [],
   "source": [
    "df = pd.read_csv('uber-raw-data-janjune-15.csv')\n"
   ]
  },
  {
   "cell_type": "markdown",
   "id": "517c6a94",
   "metadata": {},
   "source": [
    "#### Using sample to see how the data looks\n",
    "#### Checking the size of the data frame with shape\n",
    "#### Checking what variable types are being used"
   ]
  },
  {
   "cell_type": "code",
   "execution_count": 134,
   "id": "56a4ef17",
   "metadata": {},
   "outputs": [
    {
     "data": {
      "text/html": [
       "<div>\n",
       "<style scoped>\n",
       "    .dataframe tbody tr th:only-of-type {\n",
       "        vertical-align: middle;\n",
       "    }\n",
       "\n",
       "    .dataframe tbody tr th {\n",
       "        vertical-align: top;\n",
       "    }\n",
       "\n",
       "    .dataframe thead th {\n",
       "        text-align: right;\n",
       "    }\n",
       "</style>\n",
       "<table border=\"1\" class=\"dataframe\">\n",
       "  <thead>\n",
       "    <tr style=\"text-align: right;\">\n",
       "      <th></th>\n",
       "      <th>Dispatching_base_num</th>\n",
       "      <th>Pickup_date</th>\n",
       "      <th>Affiliated_base_num</th>\n",
       "      <th>locationID</th>\n",
       "    </tr>\n",
       "  </thead>\n",
       "  <tbody>\n",
       "    <tr>\n",
       "      <th>3875915</th>\n",
       "      <td>B02682</td>\n",
       "      <td>2015-02-25 20:48:29</td>\n",
       "      <td>B02682</td>\n",
       "      <td>234</td>\n",
       "    </tr>\n",
       "    <tr>\n",
       "      <th>5654902</th>\n",
       "      <td>B02682</td>\n",
       "      <td>2015-03-02 10:25:00</td>\n",
       "      <td>B02682</td>\n",
       "      <td>207</td>\n",
       "    </tr>\n",
       "    <tr>\n",
       "      <th>5459721</th>\n",
       "      <td>B02682</td>\n",
       "      <td>2015-03-01 12:19:00</td>\n",
       "      <td>B02682</td>\n",
       "      <td>79</td>\n",
       "    </tr>\n",
       "    <tr>\n",
       "      <th>9649748</th>\n",
       "      <td>B02764</td>\n",
       "      <td>2015-03-03 19:09:00</td>\n",
       "      <td>B02765</td>\n",
       "      <td>100</td>\n",
       "    </tr>\n",
       "    <tr>\n",
       "      <th>11159328</th>\n",
       "      <td>B02682</td>\n",
       "      <td>2015-02-02 09:09:10</td>\n",
       "      <td>B00789</td>\n",
       "      <td>66</td>\n",
       "    </tr>\n",
       "    <tr>\n",
       "      <th>4845682</th>\n",
       "      <td>B02764</td>\n",
       "      <td>2015-01-13 10:55:25</td>\n",
       "      <td>B02764</td>\n",
       "      <td>138</td>\n",
       "    </tr>\n",
       "    <tr>\n",
       "      <th>5074157</th>\n",
       "      <td>B02598</td>\n",
       "      <td>2015-03-24 20:35:00</td>\n",
       "      <td>B02598</td>\n",
       "      <td>7</td>\n",
       "    </tr>\n",
       "    <tr>\n",
       "      <th>1267227</th>\n",
       "      <td>B02598</td>\n",
       "      <td>2015-02-05 19:52:42</td>\n",
       "      <td>B02598</td>\n",
       "      <td>231</td>\n",
       "    </tr>\n",
       "    <tr>\n",
       "      <th>307026</th>\n",
       "      <td>B02682</td>\n",
       "      <td>2015-05-17 19:17:00</td>\n",
       "      <td>B02682</td>\n",
       "      <td>138</td>\n",
       "    </tr>\n",
       "    <tr>\n",
       "      <th>11329764</th>\n",
       "      <td>B02682</td>\n",
       "      <td>2015-02-04 18:49:57</td>\n",
       "      <td>B02764</td>\n",
       "      <td>79</td>\n",
       "    </tr>\n",
       "  </tbody>\n",
       "</table>\n",
       "</div>"
      ],
      "text/plain": [
       "         Dispatching_base_num          Pickup_date Affiliated_base_num  \\\n",
       "3875915                B02682  2015-02-25 20:48:29              B02682   \n",
       "5654902                B02682  2015-03-02 10:25:00              B02682   \n",
       "5459721                B02682  2015-03-01 12:19:00              B02682   \n",
       "9649748                B02764  2015-03-03 19:09:00              B02765   \n",
       "11159328               B02682  2015-02-02 09:09:10              B00789   \n",
       "4845682                B02764  2015-01-13 10:55:25              B02764   \n",
       "5074157                B02598  2015-03-24 20:35:00              B02598   \n",
       "1267227                B02598  2015-02-05 19:52:42              B02598   \n",
       "307026                 B02682  2015-05-17 19:17:00              B02682   \n",
       "11329764               B02682  2015-02-04 18:49:57              B02764   \n",
       "\n",
       "          locationID  \n",
       "3875915          234  \n",
       "5654902          207  \n",
       "5459721           79  \n",
       "9649748          100  \n",
       "11159328          66  \n",
       "4845682          138  \n",
       "5074157            7  \n",
       "1267227          231  \n",
       "307026           138  \n",
       "11329764          79  "
      ]
     },
     "execution_count": 134,
     "metadata": {},
     "output_type": "execute_result"
    }
   ],
   "source": [
    "df.sample(10)"
   ]
  },
  {
   "cell_type": "code",
   "execution_count": 135,
   "id": "ccc86c9f",
   "metadata": {},
   "outputs": [
    {
     "data": {
      "text/plain": [
       "(14270479, 4)"
      ]
     },
     "execution_count": 135,
     "metadata": {},
     "output_type": "execute_result"
    }
   ],
   "source": [
    "df.shape"
   ]
  },
  {
   "cell_type": "code",
   "execution_count": 136,
   "id": "8081c9e1",
   "metadata": {},
   "outputs": [
    {
     "data": {
      "text/plain": [
       "Dispatching_base_num    object\n",
       "Pickup_date             object\n",
       "Affiliated_base_num     object\n",
       "locationID               int64\n",
       "dtype: object"
      ]
     },
     "execution_count": 136,
     "metadata": {},
     "output_type": "execute_result"
    }
   ],
   "source": [
    "df.dtypes\n",
    "        "
   ]
  },
  {
   "cell_type": "markdown",
   "id": "edf06240",
   "metadata": {},
   "source": [
    "### Change pickupdate to a datetime object"
   ]
  },
  {
   "cell_type": "code",
   "execution_count": 137,
   "id": "bde18ed4",
   "metadata": {},
   "outputs": [
    {
     "data": {
      "text/plain": [
       "Dispatching_base_num            object\n",
       "Pickup_date             datetime64[ns]\n",
       "Affiliated_base_num             object\n",
       "locationID                       int64\n",
       "dtype: object"
      ]
     },
     "execution_count": 137,
     "metadata": {},
     "output_type": "execute_result"
    }
   ],
   "source": [
    "df['Pickup_date'] = pd.to_datetime(df['Pickup_date'])\n",
    "df.dtypes"
   ]
  },
  {
   "cell_type": "markdown",
   "id": "5fcab4d5",
   "metadata": {},
   "source": [
    "### Adding a column without the time so see by just date"
   ]
  },
  {
   "cell_type": "code",
   "execution_count": 138,
   "id": "dc4ff89f",
   "metadata": {},
   "outputs": [
    {
     "data": {
      "text/html": [
       "<div>\n",
       "<style scoped>\n",
       "    .dataframe tbody tr th:only-of-type {\n",
       "        vertical-align: middle;\n",
       "    }\n",
       "\n",
       "    .dataframe tbody tr th {\n",
       "        vertical-align: top;\n",
       "    }\n",
       "\n",
       "    .dataframe thead th {\n",
       "        text-align: right;\n",
       "    }\n",
       "</style>\n",
       "<table border=\"1\" class=\"dataframe\">\n",
       "  <thead>\n",
       "    <tr style=\"text-align: right;\">\n",
       "      <th></th>\n",
       "      <th>Dispatching_base_num</th>\n",
       "      <th>Pickup_date</th>\n",
       "      <th>Affiliated_base_num</th>\n",
       "      <th>locationID</th>\n",
       "      <th>Pickup_date_noTime</th>\n",
       "    </tr>\n",
       "  </thead>\n",
       "  <tbody>\n",
       "    <tr>\n",
       "      <th>0</th>\n",
       "      <td>B02617</td>\n",
       "      <td>2015-05-17 09:47:00</td>\n",
       "      <td>B02617</td>\n",
       "      <td>141</td>\n",
       "      <td>2015-05-17</td>\n",
       "    </tr>\n",
       "    <tr>\n",
       "      <th>1</th>\n",
       "      <td>B02617</td>\n",
       "      <td>2015-05-17 09:47:00</td>\n",
       "      <td>B02617</td>\n",
       "      <td>65</td>\n",
       "      <td>2015-05-17</td>\n",
       "    </tr>\n",
       "    <tr>\n",
       "      <th>2</th>\n",
       "      <td>B02617</td>\n",
       "      <td>2015-05-17 09:47:00</td>\n",
       "      <td>B02617</td>\n",
       "      <td>100</td>\n",
       "      <td>2015-05-17</td>\n",
       "    </tr>\n",
       "    <tr>\n",
       "      <th>3</th>\n",
       "      <td>B02617</td>\n",
       "      <td>2015-05-17 09:47:00</td>\n",
       "      <td>B02774</td>\n",
       "      <td>80</td>\n",
       "      <td>2015-05-17</td>\n",
       "    </tr>\n",
       "    <tr>\n",
       "      <th>4</th>\n",
       "      <td>B02617</td>\n",
       "      <td>2015-05-17 09:47:00</td>\n",
       "      <td>B02617</td>\n",
       "      <td>90</td>\n",
       "      <td>2015-05-17</td>\n",
       "    </tr>\n",
       "    <tr>\n",
       "      <th>5</th>\n",
       "      <td>B02617</td>\n",
       "      <td>2015-05-17 09:47:00</td>\n",
       "      <td>B02617</td>\n",
       "      <td>228</td>\n",
       "      <td>2015-05-17</td>\n",
       "    </tr>\n",
       "    <tr>\n",
       "      <th>6</th>\n",
       "      <td>B02617</td>\n",
       "      <td>2015-05-17 09:47:00</td>\n",
       "      <td>B02617</td>\n",
       "      <td>7</td>\n",
       "      <td>2015-05-17</td>\n",
       "    </tr>\n",
       "    <tr>\n",
       "      <th>7</th>\n",
       "      <td>B02617</td>\n",
       "      <td>2015-05-17 09:47:00</td>\n",
       "      <td>B02764</td>\n",
       "      <td>74</td>\n",
       "      <td>2015-05-17</td>\n",
       "    </tr>\n",
       "    <tr>\n",
       "      <th>8</th>\n",
       "      <td>B02617</td>\n",
       "      <td>2015-05-17 09:47:00</td>\n",
       "      <td>B02617</td>\n",
       "      <td>249</td>\n",
       "      <td>2015-05-17</td>\n",
       "    </tr>\n",
       "    <tr>\n",
       "      <th>9</th>\n",
       "      <td>B02617</td>\n",
       "      <td>2015-05-17 09:47:00</td>\n",
       "      <td>B02764</td>\n",
       "      <td>22</td>\n",
       "      <td>2015-05-17</td>\n",
       "    </tr>\n",
       "  </tbody>\n",
       "</table>\n",
       "</div>"
      ],
      "text/plain": [
       "  Dispatching_base_num         Pickup_date Affiliated_base_num  locationID  \\\n",
       "0               B02617 2015-05-17 09:47:00              B02617         141   \n",
       "1               B02617 2015-05-17 09:47:00              B02617          65   \n",
       "2               B02617 2015-05-17 09:47:00              B02617         100   \n",
       "3               B02617 2015-05-17 09:47:00              B02774          80   \n",
       "4               B02617 2015-05-17 09:47:00              B02617          90   \n",
       "5               B02617 2015-05-17 09:47:00              B02617         228   \n",
       "6               B02617 2015-05-17 09:47:00              B02617           7   \n",
       "7               B02617 2015-05-17 09:47:00              B02764          74   \n",
       "8               B02617 2015-05-17 09:47:00              B02617         249   \n",
       "9               B02617 2015-05-17 09:47:00              B02764          22   \n",
       "\n",
       "  Pickup_date_noTime  \n",
       "0         2015-05-17  \n",
       "1         2015-05-17  \n",
       "2         2015-05-17  \n",
       "3         2015-05-17  \n",
       "4         2015-05-17  \n",
       "5         2015-05-17  \n",
       "6         2015-05-17  \n",
       "7         2015-05-17  \n",
       "8         2015-05-17  \n",
       "9         2015-05-17  "
      ]
     },
     "execution_count": 138,
     "metadata": {},
     "output_type": "execute_result"
    }
   ],
   "source": [
    "df['Pickup_date_noTime']= pd.to_datetime(df['Pickup_date']).dt.date\n",
    "df.head(10)"
   ]
  },
  {
   "cell_type": "markdown",
   "id": "26eb8c94",
   "metadata": {},
   "source": [
    "### next couple cells are sorting the data to look at it in different ways"
   ]
  },
  {
   "cell_type": "code",
   "execution_count": 139,
   "id": "01f02fc1",
   "metadata": {},
   "outputs": [
    {
     "data": {
      "text/html": [
       "<div>\n",
       "<style scoped>\n",
       "    .dataframe tbody tr th:only-of-type {\n",
       "        vertical-align: middle;\n",
       "    }\n",
       "\n",
       "    .dataframe tbody tr th {\n",
       "        vertical-align: top;\n",
       "    }\n",
       "\n",
       "    .dataframe thead th {\n",
       "        text-align: right;\n",
       "    }\n",
       "</style>\n",
       "<table border=\"1\" class=\"dataframe\">\n",
       "  <thead>\n",
       "    <tr style=\"text-align: right;\">\n",
       "      <th></th>\n",
       "      <th>Dispatching_base_num</th>\n",
       "      <th>Pickup_date</th>\n",
       "      <th>Affiliated_base_num</th>\n",
       "      <th>locationID</th>\n",
       "      <th>Pickup_date_noTime</th>\n",
       "    </tr>\n",
       "  </thead>\n",
       "  <tbody>\n",
       "    <tr>\n",
       "      <th>0</th>\n",
       "      <td>B02617</td>\n",
       "      <td>2015-05-17 09:47:00</td>\n",
       "      <td>B02617</td>\n",
       "      <td>141</td>\n",
       "      <td>2015-05-17</td>\n",
       "    </tr>\n",
       "    <tr>\n",
       "      <th>1</th>\n",
       "      <td>B02617</td>\n",
       "      <td>2015-05-17 09:47:00</td>\n",
       "      <td>B02617</td>\n",
       "      <td>65</td>\n",
       "      <td>2015-05-17</td>\n",
       "    </tr>\n",
       "    <tr>\n",
       "      <th>2</th>\n",
       "      <td>B02617</td>\n",
       "      <td>2015-05-17 09:47:00</td>\n",
       "      <td>B02617</td>\n",
       "      <td>100</td>\n",
       "      <td>2015-05-17</td>\n",
       "    </tr>\n",
       "    <tr>\n",
       "      <th>3</th>\n",
       "      <td>B02617</td>\n",
       "      <td>2015-05-17 09:47:00</td>\n",
       "      <td>B02774</td>\n",
       "      <td>80</td>\n",
       "      <td>2015-05-17</td>\n",
       "    </tr>\n",
       "    <tr>\n",
       "      <th>4</th>\n",
       "      <td>B02617</td>\n",
       "      <td>2015-05-17 09:47:00</td>\n",
       "      <td>B02617</td>\n",
       "      <td>90</td>\n",
       "      <td>2015-05-17</td>\n",
       "    </tr>\n",
       "    <tr>\n",
       "      <th>...</th>\n",
       "      <td>...</td>\n",
       "      <td>...</td>\n",
       "      <td>...</td>\n",
       "      <td>...</td>\n",
       "      <td>...</td>\n",
       "    </tr>\n",
       "    <tr>\n",
       "      <th>14138714</th>\n",
       "      <td>B02764</td>\n",
       "      <td>2015-05-11 22:34:00</td>\n",
       "      <td>B01197</td>\n",
       "      <td>5</td>\n",
       "      <td>2015-05-11</td>\n",
       "    </tr>\n",
       "    <tr>\n",
       "      <th>14143332</th>\n",
       "      <td>B02765</td>\n",
       "      <td>2015-05-03 19:10:00</td>\n",
       "      <td>B02764</td>\n",
       "      <td>204</td>\n",
       "      <td>2015-05-03</td>\n",
       "    </tr>\n",
       "    <tr>\n",
       "      <th>14174017</th>\n",
       "      <td>B02765</td>\n",
       "      <td>2015-05-05 13:38:00</td>\n",
       "      <td>B02510</td>\n",
       "      <td>2</td>\n",
       "      <td>2015-05-05</td>\n",
       "    </tr>\n",
       "    <tr>\n",
       "      <th>14198662</th>\n",
       "      <td>B02765</td>\n",
       "      <td>2015-02-17 13:41:50</td>\n",
       "      <td>B02774</td>\n",
       "      <td>187</td>\n",
       "      <td>2015-02-17</td>\n",
       "    </tr>\n",
       "    <tr>\n",
       "      <th>14233203</th>\n",
       "      <td>B02765</td>\n",
       "      <td>2015-02-18 03:13:11</td>\n",
       "      <td>NaN</td>\n",
       "      <td>187</td>\n",
       "      <td>2015-02-18</td>\n",
       "    </tr>\n",
       "  </tbody>\n",
       "</table>\n",
       "<p>18303 rows × 5 columns</p>\n",
       "</div>"
      ],
      "text/plain": [
       "         Dispatching_base_num         Pickup_date Affiliated_base_num  \\\n",
       "0                      B02617 2015-05-17 09:47:00              B02617   \n",
       "1                      B02617 2015-05-17 09:47:00              B02617   \n",
       "2                      B02617 2015-05-17 09:47:00              B02617   \n",
       "3                      B02617 2015-05-17 09:47:00              B02774   \n",
       "4                      B02617 2015-05-17 09:47:00              B02617   \n",
       "...                       ...                 ...                 ...   \n",
       "14138714               B02764 2015-05-11 22:34:00              B01197   \n",
       "14143332               B02765 2015-05-03 19:10:00              B02764   \n",
       "14174017               B02765 2015-05-05 13:38:00              B02510   \n",
       "14198662               B02765 2015-02-17 13:41:50              B02774   \n",
       "14233203               B02765 2015-02-18 03:13:11                 NaN   \n",
       "\n",
       "          locationID Pickup_date_noTime  \n",
       "0                141         2015-05-17  \n",
       "1                 65         2015-05-17  \n",
       "2                100         2015-05-17  \n",
       "3                 80         2015-05-17  \n",
       "4                 90         2015-05-17  \n",
       "...              ...                ...  \n",
       "14138714           5         2015-05-11  \n",
       "14143332         204         2015-05-03  \n",
       "14174017           2         2015-05-05  \n",
       "14198662         187         2015-02-17  \n",
       "14233203         187         2015-02-18  \n",
       "\n",
       "[18303 rows x 5 columns]"
      ]
     },
     "execution_count": 139,
     "metadata": {},
     "output_type": "execute_result"
    }
   ],
   "source": [
    "df_Dispatching_base_num_locationID = df.groupby(['Dispatching_base_num','locationID'])\n",
    "df_Dbnlid = df_Dispatching_base_num_locationID\n",
    "df_Dbnlid.head(10)\n",
    "                                                                                                          \n",
    "                                                                                                          "
   ]
  },
  {
   "cell_type": "code",
   "execution_count": 140,
   "id": "d1ceee82",
   "metadata": {},
   "outputs": [
    {
     "data": {
      "text/html": [
       "<div>\n",
       "<style scoped>\n",
       "    .dataframe tbody tr th:only-of-type {\n",
       "        vertical-align: middle;\n",
       "    }\n",
       "\n",
       "    .dataframe tbody tr th {\n",
       "        vertical-align: top;\n",
       "    }\n",
       "\n",
       "    .dataframe thead th {\n",
       "        text-align: right;\n",
       "    }\n",
       "</style>\n",
       "<table border=\"1\" class=\"dataframe\">\n",
       "  <thead>\n",
       "    <tr style=\"text-align: right;\">\n",
       "      <th></th>\n",
       "      <th>Dispatching_base_num</th>\n",
       "      <th>Pickup_date</th>\n",
       "      <th>Affiliated_base_num</th>\n",
       "      <th>locationID</th>\n",
       "      <th>Pickup_date_noTime</th>\n",
       "    </tr>\n",
       "  </thead>\n",
       "  <tbody>\n",
       "    <tr>\n",
       "      <th>0</th>\n",
       "      <td>B02617</td>\n",
       "      <td>2015-05-17 09:47:00</td>\n",
       "      <td>B02617</td>\n",
       "      <td>141</td>\n",
       "      <td>2015-05-17</td>\n",
       "    </tr>\n",
       "    <tr>\n",
       "      <th>1</th>\n",
       "      <td>B02617</td>\n",
       "      <td>2015-05-17 09:47:00</td>\n",
       "      <td>B02617</td>\n",
       "      <td>65</td>\n",
       "      <td>2015-05-17</td>\n",
       "    </tr>\n",
       "    <tr>\n",
       "      <th>2</th>\n",
       "      <td>B02617</td>\n",
       "      <td>2015-05-17 09:47:00</td>\n",
       "      <td>B02617</td>\n",
       "      <td>100</td>\n",
       "      <td>2015-05-17</td>\n",
       "    </tr>\n",
       "    <tr>\n",
       "      <th>3</th>\n",
       "      <td>B02617</td>\n",
       "      <td>2015-05-17 09:47:00</td>\n",
       "      <td>B02774</td>\n",
       "      <td>80</td>\n",
       "      <td>2015-05-17</td>\n",
       "    </tr>\n",
       "    <tr>\n",
       "      <th>4</th>\n",
       "      <td>B02617</td>\n",
       "      <td>2015-05-17 09:47:00</td>\n",
       "      <td>B02617</td>\n",
       "      <td>90</td>\n",
       "      <td>2015-05-17</td>\n",
       "    </tr>\n",
       "    <tr>\n",
       "      <th>...</th>\n",
       "      <td>...</td>\n",
       "      <td>...</td>\n",
       "      <td>...</td>\n",
       "      <td>...</td>\n",
       "      <td>...</td>\n",
       "    </tr>\n",
       "    <tr>\n",
       "      <th>14270355</th>\n",
       "      <td>B02765</td>\n",
       "      <td>2015-02-20 18:37:46</td>\n",
       "      <td>B01087</td>\n",
       "      <td>233</td>\n",
       "      <td>2015-02-20</td>\n",
       "    </tr>\n",
       "    <tr>\n",
       "      <th>14270356</th>\n",
       "      <td>B02765</td>\n",
       "      <td>2015-02-20 22:24:07</td>\n",
       "      <td>B02764</td>\n",
       "      <td>246</td>\n",
       "      <td>2015-02-20</td>\n",
       "    </tr>\n",
       "    <tr>\n",
       "      <th>14270357</th>\n",
       "      <td>B02765</td>\n",
       "      <td>2015-02-20 14:26:52</td>\n",
       "      <td>B02765</td>\n",
       "      <td>75</td>\n",
       "      <td>2015-02-20</td>\n",
       "    </tr>\n",
       "    <tr>\n",
       "      <th>14270358</th>\n",
       "      <td>B02765</td>\n",
       "      <td>2015-02-20 19:25:08</td>\n",
       "      <td>B02765</td>\n",
       "      <td>79</td>\n",
       "      <td>2015-02-20</td>\n",
       "    </tr>\n",
       "    <tr>\n",
       "      <th>14270359</th>\n",
       "      <td>B02765</td>\n",
       "      <td>2015-02-20 23:30:47</td>\n",
       "      <td>B00446</td>\n",
       "      <td>113</td>\n",
       "      <td>2015-02-20</td>\n",
       "    </tr>\n",
       "  </tbody>\n",
       "</table>\n",
       "<p>5079740 rows × 5 columns</p>\n",
       "</div>"
      ],
      "text/plain": [
       "         Dispatching_base_num         Pickup_date Affiliated_base_num  \\\n",
       "0                      B02617 2015-05-17 09:47:00              B02617   \n",
       "1                      B02617 2015-05-17 09:47:00              B02617   \n",
       "2                      B02617 2015-05-17 09:47:00              B02617   \n",
       "3                      B02617 2015-05-17 09:47:00              B02774   \n",
       "4                      B02617 2015-05-17 09:47:00              B02617   \n",
       "...                       ...                 ...                 ...   \n",
       "14270355               B02765 2015-02-20 18:37:46              B01087   \n",
       "14270356               B02765 2015-02-20 22:24:07              B02764   \n",
       "14270357               B02765 2015-02-20 14:26:52              B02765   \n",
       "14270358               B02765 2015-02-20 19:25:08              B02765   \n",
       "14270359               B02765 2015-02-20 23:30:47              B00446   \n",
       "\n",
       "          locationID Pickup_date_noTime  \n",
       "0                141         2015-05-17  \n",
       "1                 65         2015-05-17  \n",
       "2                100         2015-05-17  \n",
       "3                 80         2015-05-17  \n",
       "4                 90         2015-05-17  \n",
       "...              ...                ...  \n",
       "14270355         233         2015-02-20  \n",
       "14270356         246         2015-02-20  \n",
       "14270357          75         2015-02-20  \n",
       "14270358          79         2015-02-20  \n",
       "14270359         113         2015-02-20  \n",
       "\n",
       "[5079740 rows x 5 columns]"
      ]
     },
     "execution_count": 140,
     "metadata": {},
     "output_type": "execute_result"
    }
   ],
   "source": [
    "dfDateSort = df.groupby('Pickup_date')\n",
    "dfDateSort.head()"
   ]
  },
  {
   "cell_type": "markdown",
   "id": "ddfdb7bb",
   "metadata": {},
   "source": [
    "### looking to see how many unique values are in each column"
   ]
  },
  {
   "cell_type": "code",
   "execution_count": 141,
   "id": "d9e63ea1",
   "metadata": {},
   "outputs": [
    {
     "data": {
      "text/plain": [
       "Dispatching_base_num          8\n",
       "Pickup_date             2744783\n",
       "Affiliated_base_num         284\n",
       "locationID                  262\n",
       "Pickup_date_noTime          181\n",
       "dtype: int64"
      ]
     },
     "execution_count": 141,
     "metadata": {},
     "output_type": "execute_result"
    }
   ],
   "source": [
    "df.nunique()"
   ]
  },
  {
   "cell_type": "markdown",
   "id": "ea203f6a",
   "metadata": {},
   "source": [
    "### What is the most common location ID (what about Pickup date, dispatching base and affiliated base?)"
   ]
  },
  {
   "cell_type": "code",
   "execution_count": 142,
   "id": "b1ba60c7",
   "metadata": {},
   "outputs": [
    {
     "name": "stdout",
     "output_type": "stream",
     "text": [
      "Most Common values \n",
      " location ID;  161 \n",
      " Pickup Date:  2015-06-27 \n",
      " Dispatching Base Number:  B02764 \n",
      " Affiliated Base Number:  B02764\n"
     ]
    }
   ],
   "source": [
    "idModeFrame = df['locationID'].mode().to_frame()    #using the mode function to return the series with mode and converting it to a data frame to pluck out the value easier with pandas\n",
    "idMode = idModeFrame.locationID[0] #extracting the actual mode from the frame\n",
    "\n",
    "pickupDateFrame = df['Pickup_date_noTime'].mode().to_frame()\n",
    "pickupDateMode = pickupDateFrame.Pickup_date_noTime[0]\n",
    "\n",
    "dispatchBaseFrame = df['Dispatching_base_num'].mode().to_frame()\n",
    "disBaseMode = dispatchBaseFrame.Dispatching_base_num[0]\n",
    "\n",
    "affiliatedBaseFrame = df['Affiliated_base_num'].mode().to_frame()\n",
    "affMode = affiliatedBaseFrame.Affiliated_base_num[0]\n",
    "\n",
    "\n",
    "\n",
    "print('Most Common values \\n',\n",
    "      'location ID; ',idMode,'\\n',\n",
    "      'Pickup Date: ',pickupDateMode,'\\n', \n",
    "      'Dispatching Base Number: ',disBaseMode,'\\n', \n",
    "      'Affiliated Base Number: ',affMode)"
   ]
  },
  {
   "cell_type": "markdown",
   "id": "7aab4a22",
   "metadata": {},
   "source": [
    "###### What are the 3 most common dates? What day of the week are these? "
   ]
  },
  {
   "cell_type": "code",
   "execution_count": 143,
   "id": "e3487d05",
   "metadata": {},
   "outputs": [
    {
     "name": "stdout",
     "output_type": "stream",
     "text": [
      "Three most Common Dates are:  Saturday 2015-06-27 Saturday 2015-05-16 Saturday 2015-04-25\n"
     ]
    }
   ],
   "source": [
    "datesCount = df['Pickup_date_noTime'].value_counts().to_frame().rename_axis('Date').reset_index() #get the count of pickups for each date and make a frame showing these\n",
    "datesCount.rename(columns={'Pickup_date_noTime':'Counts'}) #rename the columns so they match what data is in them\n",
    "datesCount.Date = pd.to_datetime(datesCount.Date).dt.date #convert date to datetime again to be used with weekday method\n",
    "\n",
    "days = [] #will store the day number in here and convert to string version of day below\n",
    "\n",
    "#find the day number of the top three most active dates\n",
    "days.append(datesCount.Date[0].weekday())\n",
    "days.append(datesCount.Date[1].weekday())\n",
    "days.append(datesCount.Date[2].weekday())\n",
    "\n",
    "#function to convert numerical weekday to String\n",
    "def numToWeekday(num):\n",
    "    weekdays = ['Monday','Tuesday','Wednesday','Thursday','Friday','Saturday','Sunday']\n",
    "    return(weekdays[num])\n",
    "\n",
    "daysString = []\n",
    "for day in days:\n",
    "    daysString.append(numToWeekday(day))\n",
    "\n",
    "print('Three most Common Dates are: ',daysString[0],datesCount.Date[0],\n",
    "      daysString[1], datesCount.Date[1],\n",
    "      daysString[2],datesCount.Date[2])\n",
    "   "
   ]
  },
  {
   "cell_type": "markdown",
   "id": "459dcfdf",
   "metadata": {},
   "source": [
    "### Add a days of the week column, what is the most common day of the week for pickups?\n",
    "##### The day of the week is reported as a number, 0-6 monday-sunday"
   ]
  },
  {
   "cell_type": "code",
   "execution_count": 144,
   "id": "a6ae4ab2",
   "metadata": {},
   "outputs": [
    {
     "data": {
      "text/html": [
       "<div>\n",
       "<style scoped>\n",
       "    .dataframe tbody tr th:only-of-type {\n",
       "        vertical-align: middle;\n",
       "    }\n",
       "\n",
       "    .dataframe tbody tr th {\n",
       "        vertical-align: top;\n",
       "    }\n",
       "\n",
       "    .dataframe thead th {\n",
       "        text-align: right;\n",
       "    }\n",
       "</style>\n",
       "<table border=\"1\" class=\"dataframe\">\n",
       "  <thead>\n",
       "    <tr style=\"text-align: right;\">\n",
       "      <th></th>\n",
       "      <th>Dispatching_base_num</th>\n",
       "      <th>Pickup_date</th>\n",
       "      <th>Affiliated_base_num</th>\n",
       "      <th>locationID</th>\n",
       "      <th>Pickup_date_noTime</th>\n",
       "      <th>Day of week</th>\n",
       "    </tr>\n",
       "  </thead>\n",
       "  <tbody>\n",
       "    <tr>\n",
       "      <th>4434252</th>\n",
       "      <td>B02764</td>\n",
       "      <td>2015-01-20 10:40:53</td>\n",
       "      <td>B02598</td>\n",
       "      <td>95</td>\n",
       "      <td>2015-01-20</td>\n",
       "      <td>1</td>\n",
       "    </tr>\n",
       "    <tr>\n",
       "      <th>13680912</th>\n",
       "      <td>B02764</td>\n",
       "      <td>2015-02-16 13:28:10</td>\n",
       "      <td>B02764</td>\n",
       "      <td>107</td>\n",
       "      <td>2015-02-16</td>\n",
       "      <td>0</td>\n",
       "    </tr>\n",
       "    <tr>\n",
       "      <th>5361945</th>\n",
       "      <td>B02682</td>\n",
       "      <td>2015-06-27 04:32:00</td>\n",
       "      <td>B02682</td>\n",
       "      <td>246</td>\n",
       "      <td>2015-06-27</td>\n",
       "      <td>5</td>\n",
       "    </tr>\n",
       "    <tr>\n",
       "      <th>6099081</th>\n",
       "      <td>B02764</td>\n",
       "      <td>2015-05-18 19:43:00</td>\n",
       "      <td>B02598</td>\n",
       "      <td>163</td>\n",
       "      <td>2015-05-18</td>\n",
       "      <td>0</td>\n",
       "    </tr>\n",
       "    <tr>\n",
       "      <th>717387</th>\n",
       "      <td>B02764</td>\n",
       "      <td>2015-01-28 06:46:33</td>\n",
       "      <td>B02764</td>\n",
       "      <td>165</td>\n",
       "      <td>2015-01-28</td>\n",
       "      <td>2</td>\n",
       "    </tr>\n",
       "    <tr>\n",
       "      <th>10870625</th>\n",
       "      <td>B02682</td>\n",
       "      <td>2015-05-11 19:49:00</td>\n",
       "      <td>B02682</td>\n",
       "      <td>61</td>\n",
       "      <td>2015-05-11</td>\n",
       "      <td>0</td>\n",
       "    </tr>\n",
       "    <tr>\n",
       "      <th>255332</th>\n",
       "      <td>B02682</td>\n",
       "      <td>2015-02-09 18:07:45</td>\n",
       "      <td>B02682</td>\n",
       "      <td>90</td>\n",
       "      <td>2015-02-09</td>\n",
       "      <td>0</td>\n",
       "    </tr>\n",
       "    <tr>\n",
       "      <th>9472722</th>\n",
       "      <td>B02682</td>\n",
       "      <td>2015-01-01 03:03:55</td>\n",
       "      <td>B02682</td>\n",
       "      <td>37</td>\n",
       "      <td>2015-01-01</td>\n",
       "      <td>3</td>\n",
       "    </tr>\n",
       "    <tr>\n",
       "      <th>8069443</th>\n",
       "      <td>B02682</td>\n",
       "      <td>2015-05-02 00:31:00</td>\n",
       "      <td>B02682</td>\n",
       "      <td>61</td>\n",
       "      <td>2015-05-02</td>\n",
       "      <td>5</td>\n",
       "    </tr>\n",
       "    <tr>\n",
       "      <th>3660161</th>\n",
       "      <td>B02764</td>\n",
       "      <td>2015-01-13 10:26:06</td>\n",
       "      <td>B02764</td>\n",
       "      <td>138</td>\n",
       "      <td>2015-01-13</td>\n",
       "      <td>1</td>\n",
       "    </tr>\n",
       "  </tbody>\n",
       "</table>\n",
       "</div>"
      ],
      "text/plain": [
       "         Dispatching_base_num         Pickup_date Affiliated_base_num  \\\n",
       "4434252                B02764 2015-01-20 10:40:53              B02598   \n",
       "13680912               B02764 2015-02-16 13:28:10              B02764   \n",
       "5361945                B02682 2015-06-27 04:32:00              B02682   \n",
       "6099081                B02764 2015-05-18 19:43:00              B02598   \n",
       "717387                 B02764 2015-01-28 06:46:33              B02764   \n",
       "10870625               B02682 2015-05-11 19:49:00              B02682   \n",
       "255332                 B02682 2015-02-09 18:07:45              B02682   \n",
       "9472722                B02682 2015-01-01 03:03:55              B02682   \n",
       "8069443                B02682 2015-05-02 00:31:00              B02682   \n",
       "3660161                B02764 2015-01-13 10:26:06              B02764   \n",
       "\n",
       "          locationID Pickup_date_noTime  Day of week  \n",
       "4434252           95         2015-01-20            1  \n",
       "13680912         107         2015-02-16            0  \n",
       "5361945          246         2015-06-27            5  \n",
       "6099081          163         2015-05-18            0  \n",
       "717387           165         2015-01-28            2  \n",
       "10870625          61         2015-05-11            0  \n",
       "255332            90         2015-02-09            0  \n",
       "9472722           37         2015-01-01            3  \n",
       "8069443           61         2015-05-02            5  \n",
       "3660161          138         2015-01-13            1  "
      ]
     },
     "execution_count": 144,
     "metadata": {},
     "output_type": "execute_result"
    }
   ],
   "source": [
    "df['Day of week'] = df['Pickup_date'].dt.weekday\n",
    "df.sample(10)"
   ]
  },
  {
   "cell_type": "markdown",
   "id": "30a3559c",
   "metadata": {},
   "source": [
    "Cell below uses my function from above that can convert a numerical day of the week to the correct string/word for the day"
   ]
  },
  {
   "cell_type": "code",
   "execution_count": 145,
   "id": "7d468ac0",
   "metadata": {},
   "outputs": [
    {
     "name": "stdout",
     "output_type": "stream",
     "text": [
      "Most Common day of the week for riders:  Saturday\n"
     ]
    }
   ],
   "source": [
    "mostCommonDay = df['Day of week'].mode().iat[0] #This grabs just the value of the mode from the created mode series\n",
    "\n",
    "print('Most Common day of the week for riders: ',numToWeekday(mostCommonDay))"
   ]
  },
  {
   "cell_type": "markdown",
   "id": "2ded6b3e",
   "metadata": {},
   "source": [
    "### Creating a plot showing the frequency of use by day of week"
   ]
  },
  {
   "cell_type": "code",
   "execution_count": 146,
   "id": "e1d30f19",
   "metadata": {},
   "outputs": [
    {
     "data": {
      "image/png": "[encoded data removed]",
      "text/plain": [
       "<Figure size 640x480 with 1 Axes>"
      ]
     },
     "metadata": {},
     "output_type": "display_data"
    }
   ],
   "source": [
    "dayHist = plt.hist(df['Day of week'],bins=[0,1,2,3,4,5,6,7],align='left',rwidth=.8,color = 'g')\n",
    "plt.suptitle('Pickups by day of the week')\n",
    "plt.xlabel('Day of week (0 = Monday)')\n",
    "plt.ylabel('Number of pickups')\n",
    "plt.show()"
   ]
  },
  {
   "cell_type": "markdown",
   "id": "0bb36aec",
   "metadata": {},
   "source": [
    "## Below plot is pickups by date"
   ]
  },
  {
   "cell_type": "code",
   "execution_count": 147,
   "id": "77f98ff0",
   "metadata": {},
   "outputs": [
    {
     "data": {
      "image/png": "[encoded data removed]",
      "text/plain": [
       "<Figure size 640x480 with 1 Axes>"
      ]
     },
     "metadata": {},
     "output_type": "display_data"
    }
   ],
   "source": [
    "dateHist = plt.hist(df['Pickup_date_noTime'],bins='auto',rwidth=.5)\n",
    "plt.suptitle('Pickups by date')\n",
    "plt.xlabel('Date')\n",
    "plt.ylabel('Number of pickups')\n",
    "plt.show()"
   ]
  },
  {
   "cell_type": "markdown",
   "id": "ae6c1707",
   "metadata": {},
   "source": [
    "### Looking at pickups by week"
   ]
  },
  {
   "cell_type": "markdown",
   "id": "983c494d",
   "metadata": {},
   "source": [
    "#### Create a week number column in the dataframe"
   ]
  },
  {
   "cell_type": "code",
   "execution_count": 148,
   "id": "11615d5d",
   "metadata": {},
   "outputs": [
    {
     "data": {
      "text/html": [
       "<div>\n",
       "<style scoped>\n",
       "    .dataframe tbody tr th:only-of-type {\n",
       "        vertical-align: middle;\n",
       "    }\n",
       "\n",
       "    .dataframe tbody tr th {\n",
       "        vertical-align: top;\n",
       "    }\n",
       "\n",
       "    .dataframe thead th {\n",
       "        text-align: right;\n",
       "    }\n",
       "</style>\n",
       "<table border=\"1\" class=\"dataframe\">\n",
       "  <thead>\n",
       "    <tr style=\"text-align: right;\">\n",
       "      <th></th>\n",
       "      <th>Dispatching_base_num</th>\n",
       "      <th>Pickup_date</th>\n",
       "      <th>Affiliated_base_num</th>\n",
       "      <th>locationID</th>\n",
       "      <th>Pickup_date_noTime</th>\n",
       "      <th>Day of week</th>\n",
       "      <th>Week of pickup</th>\n",
       "    </tr>\n",
       "  </thead>\n",
       "  <tbody>\n",
       "    <tr>\n",
       "      <th>4877269</th>\n",
       "      <td>B02764</td>\n",
       "      <td>2015-06-19 01:00:00</td>\n",
       "      <td>B02764</td>\n",
       "      <td>186</td>\n",
       "      <td>2015-06-19</td>\n",
       "      <td>4</td>\n",
       "      <td>25</td>\n",
       "    </tr>\n",
       "    <tr>\n",
       "      <th>11084507</th>\n",
       "      <td>B02682</td>\n",
       "      <td>2015-02-01 13:30:53</td>\n",
       "      <td>B00111</td>\n",
       "      <td>33</td>\n",
       "      <td>2015-02-01</td>\n",
       "      <td>6</td>\n",
       "      <td>5</td>\n",
       "    </tr>\n",
       "    <tr>\n",
       "      <th>6245318</th>\n",
       "      <td>B02682</td>\n",
       "      <td>2015-04-26 00:48:00</td>\n",
       "      <td>B02682</td>\n",
       "      <td>237</td>\n",
       "      <td>2015-04-26</td>\n",
       "      <td>6</td>\n",
       "      <td>17</td>\n",
       "    </tr>\n",
       "    <tr>\n",
       "      <th>972037</th>\n",
       "      <td>B02764</td>\n",
       "      <td>2015-05-21 17:20:00</td>\n",
       "      <td>B02764</td>\n",
       "      <td>184</td>\n",
       "      <td>2015-05-21</td>\n",
       "      <td>3</td>\n",
       "      <td>21</td>\n",
       "    </tr>\n",
       "    <tr>\n",
       "      <th>6567578</th>\n",
       "      <td>B02682</td>\n",
       "      <td>2015-06-28 20:11:00</td>\n",
       "      <td>B02682</td>\n",
       "      <td>256</td>\n",
       "      <td>2015-06-28</td>\n",
       "      <td>6</td>\n",
       "      <td>26</td>\n",
       "    </tr>\n",
       "    <tr>\n",
       "      <th>3385705</th>\n",
       "      <td>B02682</td>\n",
       "      <td>2015-06-23 10:15:00</td>\n",
       "      <td>B02682</td>\n",
       "      <td>186</td>\n",
       "      <td>2015-06-23</td>\n",
       "      <td>1</td>\n",
       "      <td>26</td>\n",
       "    </tr>\n",
       "    <tr>\n",
       "      <th>4088360</th>\n",
       "      <td>B02764</td>\n",
       "      <td>2015-06-21 10:03:00</td>\n",
       "      <td>B02820</td>\n",
       "      <td>25</td>\n",
       "      <td>2015-06-21</td>\n",
       "      <td>6</td>\n",
       "      <td>25</td>\n",
       "    </tr>\n",
       "    <tr>\n",
       "      <th>4802691</th>\n",
       "      <td>B02764</td>\n",
       "      <td>2015-04-24 00:14:00</td>\n",
       "      <td>B02682</td>\n",
       "      <td>161</td>\n",
       "      <td>2015-04-24</td>\n",
       "      <td>4</td>\n",
       "      <td>17</td>\n",
       "    </tr>\n",
       "    <tr>\n",
       "      <th>11349847</th>\n",
       "      <td>B02764</td>\n",
       "      <td>2015-03-31 15:42:00</td>\n",
       "      <td>B02764</td>\n",
       "      <td>246</td>\n",
       "      <td>2015-03-31</td>\n",
       "      <td>1</td>\n",
       "      <td>14</td>\n",
       "    </tr>\n",
       "    <tr>\n",
       "      <th>2979892</th>\n",
       "      <td>B02598</td>\n",
       "      <td>2015-02-25 20:20:47</td>\n",
       "      <td>B02598</td>\n",
       "      <td>161</td>\n",
       "      <td>2015-02-25</td>\n",
       "      <td>2</td>\n",
       "      <td>9</td>\n",
       "    </tr>\n",
       "  </tbody>\n",
       "</table>\n",
       "</div>"
      ],
      "text/plain": [
       "         Dispatching_base_num         Pickup_date Affiliated_base_num  \\\n",
       "4877269                B02764 2015-06-19 01:00:00              B02764   \n",
       "11084507               B02682 2015-02-01 13:30:53              B00111   \n",
       "6245318                B02682 2015-04-26 00:48:00              B02682   \n",
       "972037                 B02764 2015-05-21 17:20:00              B02764   \n",
       "6567578                B02682 2015-06-28 20:11:00              B02682   \n",
       "3385705                B02682 2015-06-23 10:15:00              B02682   \n",
       "4088360                B02764 2015-06-21 10:03:00              B02820   \n",
       "4802691                B02764 2015-04-24 00:14:00              B02682   \n",
       "11349847               B02764 2015-03-31 15:42:00              B02764   \n",
       "2979892                B02598 2015-02-25 20:20:47              B02598   \n",
       "\n",
       "          locationID Pickup_date_noTime  Day of week  Week of pickup  \n",
       "4877269          186         2015-06-19            4              25  \n",
       "11084507          33         2015-02-01            6               5  \n",
       "6245318          237         2015-04-26            6              17  \n",
       "972037           184         2015-05-21            3              21  \n",
       "6567578          256         2015-06-28            6              26  \n",
       "3385705          186         2015-06-23            1              26  \n",
       "4088360           25         2015-06-21            6              25  \n",
       "4802691          161         2015-04-24            4              17  \n",
       "11349847         246         2015-03-31            1              14  \n",
       "2979892          161         2015-02-25            2               9  "
      ]
     },
     "execution_count": 148,
     "metadata": {},
     "output_type": "execute_result"
    }
   ],
   "source": [
    "df['Week of pickup'] = df.Pickup_date.dt.isocalendar().week\n",
    "df.sample(10)\n"
   ]
  },
  {
   "cell_type": "markdown",
   "id": "3bcbebb5",
   "metadata": {},
   "source": [
    "#### what was the busiest week?"
   ]
  },
  {
   "cell_type": "code",
   "execution_count": 149,
   "id": "77521347",
   "metadata": {},
   "outputs": [
    {
     "name": "stdout",
     "output_type": "stream",
     "text": [
      "Busiest week of the year was week number:  26\n"
     ]
    }
   ],
   "source": [
    "print('Busiest week of the year was week number: ',df['Week of pickup'].mode()[0])"
   ]
  },
  {
   "cell_type": "markdown",
   "id": "affffb68",
   "metadata": {},
   "source": [
    "#### Histogram showing frequency of rides per week"
   ]
  },
  {
   "cell_type": "code",
   "execution_count": 150,
   "id": "766267d8",
   "metadata": {},
   "outputs": [
    {
     "data": {
      "image/png": "[encoded data removed]",
      "text/plain": [
       "<Figure size 640x480 with 1 Axes>"
      ]
     },
     "metadata": {},
     "output_type": "display_data"
    }
   ],
   "source": [
    "weekHist = plt.hist(df['Week of pickup'],bins='auto',rwidth=.8,color = 'black')\n",
    "plt.suptitle('Pickups by week')\n",
    "plt.xlabel('Week')\n",
    "plt.ylabel('Number of pickups')\n",
    "plt.show()"
   ]
  },
  {
   "cell_type": "markdown",
   "id": "7c0e1b33",
   "metadata": {},
   "source": [
    "## Lets also look at pickups by time of day\n",
    "### First creating a time of day column in the data frame"
   ]
  },
  {
   "cell_type": "code",
   "execution_count": 151,
   "id": "6c79a630",
   "metadata": {},
   "outputs": [
    {
     "data": {
      "text/html": [
       "<div>\n",
       "<style scoped>\n",
       "    .dataframe tbody tr th:only-of-type {\n",
       "        vertical-align: middle;\n",
       "    }\n",
       "\n",
       "    .dataframe tbody tr th {\n",
       "        vertical-align: top;\n",
       "    }\n",
       "\n",
       "    .dataframe thead th {\n",
       "        text-align: right;\n",
       "    }\n",
       "</style>\n",
       "<table border=\"1\" class=\"dataframe\">\n",
       "  <thead>\n",
       "    <tr style=\"text-align: right;\">\n",
       "      <th></th>\n",
       "      <th>Dispatching_base_num</th>\n",
       "      <th>Pickup_date</th>\n",
       "      <th>Affiliated_base_num</th>\n",
       "      <th>locationID</th>\n",
       "      <th>Pickup_date_noTime</th>\n",
       "      <th>Day of week</th>\n",
       "      <th>Week of pickup</th>\n",
       "      <th>Pickup Hour</th>\n",
       "    </tr>\n",
       "  </thead>\n",
       "  <tbody>\n",
       "    <tr>\n",
       "      <th>2047970</th>\n",
       "      <td>B02682</td>\n",
       "      <td>2015-04-08 11:12:00</td>\n",
       "      <td>B02682</td>\n",
       "      <td>211</td>\n",
       "      <td>2015-04-08</td>\n",
       "      <td>2</td>\n",
       "      <td>15</td>\n",
       "      <td>11</td>\n",
       "    </tr>\n",
       "    <tr>\n",
       "      <th>8700211</th>\n",
       "      <td>B02512</td>\n",
       "      <td>2015-06-27 21:16:00</td>\n",
       "      <td>B02512</td>\n",
       "      <td>231</td>\n",
       "      <td>2015-06-27</td>\n",
       "      <td>5</td>\n",
       "      <td>26</td>\n",
       "      <td>21</td>\n",
       "    </tr>\n",
       "    <tr>\n",
       "      <th>6363303</th>\n",
       "      <td>B02764</td>\n",
       "      <td>2015-03-01 13:50:00</td>\n",
       "      <td>B02764</td>\n",
       "      <td>237</td>\n",
       "      <td>2015-03-01</td>\n",
       "      <td>6</td>\n",
       "      <td>9</td>\n",
       "      <td>13</td>\n",
       "    </tr>\n",
       "    <tr>\n",
       "      <th>5421378</th>\n",
       "      <td>B02617</td>\n",
       "      <td>2015-06-27 12:56:00</td>\n",
       "      <td>B02617</td>\n",
       "      <td>231</td>\n",
       "      <td>2015-06-27</td>\n",
       "      <td>5</td>\n",
       "      <td>26</td>\n",
       "      <td>12</td>\n",
       "    </tr>\n",
       "    <tr>\n",
       "      <th>12448482</th>\n",
       "      <td>B02764</td>\n",
       "      <td>2015-02-09 17:32:41</td>\n",
       "      <td>B02764</td>\n",
       "      <td>162</td>\n",
       "      <td>2015-02-09</td>\n",
       "      <td>0</td>\n",
       "      <td>7</td>\n",
       "      <td>17</td>\n",
       "    </tr>\n",
       "    <tr>\n",
       "      <th>6398597</th>\n",
       "      <td>B02764</td>\n",
       "      <td>2015-06-21 18:52:00</td>\n",
       "      <td>B02764</td>\n",
       "      <td>90</td>\n",
       "      <td>2015-06-21</td>\n",
       "      <td>6</td>\n",
       "      <td>25</td>\n",
       "      <td>18</td>\n",
       "    </tr>\n",
       "    <tr>\n",
       "      <th>5932242</th>\n",
       "      <td>B02764</td>\n",
       "      <td>2015-01-16 17:00:59</td>\n",
       "      <td>B02764</td>\n",
       "      <td>229</td>\n",
       "      <td>2015-01-16</td>\n",
       "      <td>4</td>\n",
       "      <td>3</td>\n",
       "      <td>17</td>\n",
       "    </tr>\n",
       "    <tr>\n",
       "      <th>5715150</th>\n",
       "      <td>B02617</td>\n",
       "      <td>2015-06-30 07:17:00</td>\n",
       "      <td>B02617</td>\n",
       "      <td>224</td>\n",
       "      <td>2015-06-30</td>\n",
       "      <td>1</td>\n",
       "      <td>27</td>\n",
       "      <td>7</td>\n",
       "    </tr>\n",
       "    <tr>\n",
       "      <th>3535052</th>\n",
       "      <td>B02764</td>\n",
       "      <td>2015-05-29 13:00:00</td>\n",
       "      <td>B02764</td>\n",
       "      <td>100</td>\n",
       "      <td>2015-05-29</td>\n",
       "      <td>4</td>\n",
       "      <td>22</td>\n",
       "      <td>13</td>\n",
       "    </tr>\n",
       "    <tr>\n",
       "      <th>5658139</th>\n",
       "      <td>B02764</td>\n",
       "      <td>2015-05-18 12:29:00</td>\n",
       "      <td>B02682</td>\n",
       "      <td>188</td>\n",
       "      <td>2015-05-18</td>\n",
       "      <td>0</td>\n",
       "      <td>21</td>\n",
       "      <td>12</td>\n",
       "    </tr>\n",
       "  </tbody>\n",
       "</table>\n",
       "</div>"
      ],
      "text/plain": [
       "         Dispatching_base_num         Pickup_date Affiliated_base_num  \\\n",
       "2047970                B02682 2015-04-08 11:12:00              B02682   \n",
       "8700211                B02512 2015-06-27 21:16:00              B02512   \n",
       "6363303                B02764 2015-03-01 13:50:00              B02764   \n",
       "5421378                B02617 2015-06-27 12:56:00              B02617   \n",
       "12448482               B02764 2015-02-09 17:32:41              B02764   \n",
       "6398597                B02764 2015-06-21 18:52:00              B02764   \n",
       "5932242                B02764 2015-01-16 17:00:59              B02764   \n",
       "5715150                B02617 2015-06-30 07:17:00              B02617   \n",
       "3535052                B02764 2015-05-29 13:00:00              B02764   \n",
       "5658139                B02764 2015-05-18 12:29:00              B02682   \n",
       "\n",
       "          locationID Pickup_date_noTime  Day of week  Week of pickup  \\\n",
       "2047970          211         2015-04-08            2              15   \n",
       "8700211          231         2015-06-27            5              26   \n",
       "6363303          237         2015-03-01            6               9   \n",
       "5421378          231         2015-06-27            5              26   \n",
       "12448482         162         2015-02-09            0               7   \n",
       "6398597           90         2015-06-21            6              25   \n",
       "5932242          229         2015-01-16            4               3   \n",
       "5715150          224         2015-06-30            1              27   \n",
       "3535052          100         2015-05-29            4              22   \n",
       "5658139          188         2015-05-18            0              21   \n",
       "\n",
       "          Pickup Hour  \n",
       "2047970            11  \n",
       "8700211            21  \n",
       "6363303            13  \n",
       "5421378            12  \n",
       "12448482           17  \n",
       "6398597            18  \n",
       "5932242            17  \n",
       "5715150             7  \n",
       "3535052            13  \n",
       "5658139            12  "
      ]
     },
     "execution_count": 151,
     "metadata": {},
     "output_type": "execute_result"
    }
   ],
   "source": [
    "df['Pickup Hour'] = df['Pickup_date'].dt.hour\n",
    "df.sample(10)"
   ]
  },
  {
   "cell_type": "markdown",
   "id": "d3b8c3bc",
   "metadata": {},
   "source": [
    "#### When are the 5 busiest hours?"
   ]
  },
  {
   "cell_type": "code",
   "execution_count": 152,
   "id": "4a1942a1",
   "metadata": {},
   "outputs": [
    {
     "name": "stdout",
     "output_type": "stream",
     "text": [
      "Busiest 5 hours in order (busiest to lease busy) are: \n",
      " 19 \n",
      " 18 \n",
      " 20 \n",
      " 21 \n",
      " 22 \n",
      "\n"
     ]
    }
   ],
   "source": [
    "hoursCounts = df['Pickup Hour'].value_counts().to_frame().rename_axis('Hour').reset_index() #I had trouble getting the right spot out of the series so I turn them back to data frames so I can call the id location i want more easily\n",
    "print('Busiest 5 hours in order (busiest to lease busy) are: \\n',\n",
    "      hoursCounts['Hour'][0],'\\n',\n",
    "      hoursCounts['Hour'][1],'\\n',\n",
    "      hoursCounts['Hour'][2],'\\n',\n",
    "      hoursCounts['Hour'][3],'\\n',\n",
    "      hoursCounts['Hour'][4],'\\n',)"
   ]
  },
  {
   "cell_type": "markdown",
   "id": "04cb7d76",
   "metadata": {},
   "source": [
    "### Next cell creates histogram showing hours and pickups, next creates a scatter plot to visualize pickups by hours"
   ]
  },
  {
   "cell_type": "code",
   "execution_count": 315,
   "id": "4df5f5b7",
   "metadata": {},
   "outputs": [
    {
     "data": {
      "image/png": "[encoded data removed]",
      "text/plain": [
       "<Figure size 640x480 with 1 Axes>"
      ]
     },
     "metadata": {},
     "output_type": "display_data"
    }
   ],
   "source": [
    "hoursHist = plt.hist(df['Pickup Hour'],bins='auto',rwidth=.8)\n",
    "plt.suptitle('Pickups by hour')\n",
    "plt.xlabel('Hour of the day')\n",
    "plt.ylabel('Number of pickups')\n",
    "plt.show()"
   ]
  },
  {
   "cell_type": "code",
   "execution_count": 154,
   "id": "e7d4ff40",
   "metadata": {},
   "outputs": [
    {
     "data": {
      "image/png": "[encoded data removed]",
      "text/plain": [
       "<Figure size 640x480 with 1 Axes>"
      ]
     },
     "metadata": {},
     "output_type": "display_data"
    }
   ],
   "source": [
    "#used below just to verify the frame i created looked good. Now moving on to making the scatter plot\n",
    "#dfHourCounts.head()\n",
    "\n",
    "hourCountsScatter = plt.scatter(dfHourCounts.Hour,dfHourCounts.counts,color='r')\n",
    "plt.suptitle('Hour vs Pickups')\n",
    "plt.xlabel('hour of day')\n",
    "plt.ylabel('Number of Pickups')\n",
    "plt.show()"
   ]
  },
  {
   "cell_type": "markdown",
   "id": "218696e3",
   "metadata": {},
   "source": [
    "### What is the most common dispatching base each day?"
   ]
  },
  {
   "cell_type": "code",
   "execution_count": 155,
   "id": "7a75985a",
   "metadata": {},
   "outputs": [
    {
     "name": "stdout",
     "output_type": "stream",
     "text": [
      "Most common base each day: \n",
      " Monday:  B02764 \n",
      " Tuesday:  B02764 \n",
      " Wednesday:  B02764 \n",
      " Thursday:  B02764 \n",
      " Friday:  B02764 \n",
      " Saturday:  B02764 \n",
      " Sunday:  B02764 \n",
      "\n"
     ]
    }
   ],
   "source": [
    "#create a sorted frame that shows the number of pickups at each dispatching base by day\n",
    "dfBaseDay = df.groupby(['Dispatching_base_num','Day of week']).size().reset_index(name='counts') \n",
    "\n",
    "#this function returns the id location of the base with the highest count depending on the day of the week\n",
    "def mostActiveBase(day):\n",
    "    idLoc = dfBaseDay[dfBaseDay['Day of week']== day].counts.idxmax() #filter by the day number and then look for the highest count and return that id location\n",
    "    return(dfBaseDay.Dispatching_base_num[idLoc]) #return the base number at the above id location\n",
    "\n",
    "weekdays = [0,1,2,3,4,5,6] #the needed weekdays to loop through in our above function\n",
    "activeBases = [] #a place to store all the base numbers \n",
    "for weekday in weekdays:\n",
    "    activeBases.append(mostActiveBase(weekday))\n",
    "\n",
    "print('Most common base each day: \\n',\n",
    "            'Monday: ',activeBases[0],'\\n',\n",
    "            'Tuesday: ',activeBases[1], '\\n',\n",
    "            'Wednesday: ',activeBases[2],'\\n',\n",
    "            'Thursday: ',activeBases[3],'\\n',\n",
    "            'Friday: ',activeBases[4],'\\n',\n",
    "            'Saturday: ',activeBases[5],'\\n',\n",
    "            'Sunday: ',activeBases[6],'\\n',)"
   ]
  },
  {
   "cell_type": "markdown",
   "id": "28f44d1b",
   "metadata": {},
   "source": [
    "The above shows that the same base is most active each day of the week, most popular dispatching center remains constant\n",
    "    "
   ]
  },
  {
   "cell_type": "markdown",
   "id": "42c0ac72",
   "metadata": {},
   "source": [
    "# Additions for project Part B below added code that allows user input in answering some questions"
   ]
  },
  {
   "cell_type": "markdown",
   "id": "4134f06b",
   "metadata": {},
   "source": [
    "### Let the user ask how many pickups happened on a specific date?"
   ]
  },
  {
   "cell_type": "code",
   "execution_count": 305,
   "id": "dc4a270e",
   "metadata": {},
   "outputs": [
    {
     "name": "stdout",
     "output_type": "stream",
     "text": [
      "Enter Year2015\n",
      "Enter Month04\n",
      "Enter day15\n",
      "Pickups on selected date:  66534\n"
     ]
    }
   ],
   "source": [
    "datesCount.Date = pd.to_datetime(datesCount.Date).dt.date\n",
    "\n",
    "def getCountOnDate(d): #must provide date in correct format (datetime.date 'yyyy-m-d') and returns the pickup count\n",
    "    mask = datesCount.Date == date\n",
    "\n",
    "    locator = 0\n",
    "    for i in mask:\n",
    "        if i == False:\n",
    "            locator = locator + 1\n",
    "        elif i == True:\n",
    "            break\n",
    "\n",
    "    return(datesCount.Pickup_date_noTime[locator])\n",
    "\n",
    "def dateMaker(): #this function makes a simple datetime.date object with a year month and day no timestamp. My getCountOnDate function would not work if just getting a datetime.datetime object via strptime\n",
    "    y = int(input('Enter Year'))\n",
    "    m = int(input('Enter Month'))\n",
    "    d = int(input('Enter day'))\n",
    "    date = datetime.date(y,m,d)\n",
    "    return(date)\n",
    "\n",
    "#use try and except to catch any bad dates entered by the user\n",
    "try:\n",
    "    \n",
    "    date = dateMaker()\n",
    "    count = getCountOnDate(date)\n",
    "    print('Pickups on selected date: ',count)\n",
    "except:\n",
    "    print('Invalid Date Entered')\n"
   ]
  },
  {
   "cell_type": "markdown",
   "id": "10891202",
   "metadata": {},
   "source": [
    "## How do several user defined dates compare by number of pickups\n",
    "### Compare pickups on Selected Days Graphically\n"
   ]
  },
  {
   "cell_type": "code",
   "execution_count": 318,
   "id": "2bc4bc23",
   "metadata": {},
   "outputs": [
    {
     "name": "stdout",
     "output_type": "stream",
     "text": [
      "You will now enter the dates to observe, enter done when finished\n",
      "Enter Year2015\n",
      "Enter Month4\n",
      "Enter day15\n",
      "Enter Year2015\n",
      "Enter Month1\n",
      "Enter day15\n",
      "Enter Year2015\n",
      "Enter Month2\n",
      "Enter day15\n",
      "Enter Year2015\n",
      "Enter Month3\n",
      "Enter day15\n",
      "Enter Year2015\n",
      "Enter Month5\n",
      "Enter day15\n",
      "Enter Year2015\n",
      "Enter Month6\n",
      "Enter day15\n",
      "Enter Year2015\n",
      "Enter Month2\n",
      "Enter day2\n",
      "Enter Year2015\n",
      "Enter Month3\n",
      "Enter day3\n",
      "Enter Year2015\n",
      "Enter Month6\n",
      "Enter day6\n",
      "Enter Yeardone\n"
     ]
    },
    {
     "data": {
      "image/png": "[encoded data removed]",
      "text/plain": [
       "<Figure size 640x480 with 1 Axes>"
      ]
     },
     "metadata": {},
     "output_type": "display_data"
    }
   ],
   "source": [
    "#these will store the information for each date\n",
    "dates = []\n",
    "counts = []\n",
    "# this is a list of x poisitons for the future bar graph each date just goes up by one so that each date comes sequentialy as entered by the user on the graph\n",
    "x = []\n",
    "#this will store the count of how many dates to get the right x position\n",
    "c = 0\n",
    "\n",
    "print('You will now enter the dates to observe, enter done when finished')\n",
    "while True: #using a while loop of undetermined size so that the user can select the number of dates they with to view\n",
    "    try:\n",
    "        date = dateMaker() #utilizing functions made in last cell to create a date and then get the count\n",
    "        dates.append(str(date))\n",
    "        counts.append(getCountOnDate(date))\n",
    "        x.append(c)\n",
    "        c = c + 1\n",
    "    except:  #using this except the loop will end when done or an invalid date is entered\n",
    "        break\n",
    "\n",
    "\n",
    "#creating the barplot labeling each bar with the entered date and swapping between black and blue for each bar\n",
    "datesPickupBar = plt.bar(x, counts,tick_label = dates,color = ['black','blue'])\n",
    "plt.suptitle('Pickups by selected dates')\n",
    "plt.xlabel('date')\n",
    "plt.ylabel('Number of pickups')\n",
    "plt.xticks(rotation='vertical') #vertical tick labels so you can read when you have lots of dates\n",
    "plt.show()\n",
    "    "
   ]
  },
  {
   "cell_type": "code",
   "execution_count": null,
   "id": "930e8a56",
   "metadata": {},
   "outputs": [],
   "source": []
  }
 ],
 "metadata": {
  "kernelspec": {
   "display_name": "Python 3 (ipykernel)",
   "language": "python",
   "name": "python3"
  },
  "language_info": {
   "codemirror_mode": {
    "name": "ipython",
    "version": 3
   },
   "file_extension": ".py",
   "mimetype": "text/x-python",
   "name": "python",
   "nbconvert_exporter": "python",
   "pygments_lexer": "ipython3",
   "version": "3.9.12"
  }
 },
 "nbformat": 4,
 "nbformat_minor": 5
}
